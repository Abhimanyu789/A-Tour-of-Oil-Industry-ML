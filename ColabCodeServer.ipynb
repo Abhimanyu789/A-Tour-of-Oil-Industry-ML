{
  "nbformat": 4,
  "nbformat_minor": 0,
  "metadata": {
    "colab": {
      "name": "ColabCodeServer",
      "provenance": [],
      "authorship_tag": "ABX9TyMR/k/wI16JcMnNbC/IqiOl",
      "include_colab_link": true
    },
    "kernelspec": {
      "name": "python3",
      "display_name": "Python 3"
    }
  },
  "cells": [
    {
      "cell_type": "markdown",
      "metadata": {
        "id": "view-in-github",
        "colab_type": "text"
      },
      "source": [
        "<a href=\"https://colab.research.google.com/github/bysarmad/A-Tour-of-Oil-Industry-ML/blob/master/ColabCodeServer.ipynb\" target=\"_parent\"><img src=\"https://colab.research.google.com/assets/colab-badge.svg\" alt=\"Open In Colab\"/></a>"
      ]
    },
    {
      "cell_type": "code",
      "metadata": {
        "id": "Fp2S4G1gi7Ip",
        "outputId": "ee285726-7c6f-47cf-abf4-6ed523fee718",
        "colab": {
          "base_uri": "https://localhost:8080/"
        }
      },
      "source": [
        "pip install colabcode"
      ],
      "execution_count": 1,
      "outputs": [
        {
          "output_type": "stream",
          "text": [
            "Collecting colabcode\n",
            "  Downloading https://files.pythonhosted.org/packages/5d/d5/4f9db2a4fe80f507c9c44c2cd4fd614234c1fe0d77e8f1101329997a19cd/colabcode-0.0.9-py3-none-any.whl\n",
            "Collecting pyngrok>=5.0.0\n",
            "  Downloading https://files.pythonhosted.org/packages/ea/63/e086f165125e9bf2e71c0db2955911baaaa0af8947ab5c7b3771bdf4d4d5/pyngrok-5.0.0.tar.gz\n",
            "Requirement already satisfied: PyYAML in /usr/local/lib/python3.6/dist-packages (from pyngrok>=5.0.0->colabcode) (3.13)\n",
            "Building wheels for collected packages: pyngrok\n",
            "  Building wheel for pyngrok (setup.py) ... \u001b[?25l\u001b[?25hdone\n",
            "  Created wheel for pyngrok: filename=pyngrok-5.0.0-cp36-none-any.whl size=18780 sha256=aa4189e41cb3ab7828e93920db4859198f07c9710da8f5b7aea6ef1b3757abee\n",
            "  Stored in directory: /root/.cache/pip/wheels/95/df/23/af8dde08c3fcdc7b966adcacef48ab29aa3b0b1860df5d2b79\n",
            "Successfully built pyngrok\n",
            "Installing collected packages: pyngrok, colabcode\n",
            "Successfully installed colabcode-0.0.9 pyngrok-5.0.0\n"
          ],
          "name": "stdout"
        }
      ]
    },
    {
      "cell_type": "code",
      "metadata": {
        "id": "5yUmneomjgOq",
        "outputId": "b81efae1-7ca7-49f7-bb26-c9670c3e69ee",
        "colab": {
          "base_uri": "https://localhost:8080/"
        }
      },
      "source": [
        "from colabcode import ColabCode\n",
        "ColabCode(port=1000)"
      ],
      "execution_count": null,
      "outputs": [
        {
          "output_type": "stream",
          "text": [
            "Code Server can be accessed on: NgrokTunnel: \"http://644392575cd0.ngrok.io\" -> \"http://localhost:1000\"\n",
            "[2020-10-28T18:54:05.631Z] info  Using user-data-dir ~/.local/share/code-server\n",
            "[2020-10-28T18:54:05.636Z] info  code-server 3.6.1 62735da69466a444561ab9b1115dc7c4d496d455\n",
            "[2020-10-28T18:54:05.636Z] info  Using config file ~/.config/code-server/config.yaml\n",
            "[2020-10-28T18:54:05.641Z] info  HTTP server listening on http://127.0.0.1:1000\n",
            "[2020-10-28T18:54:05.641Z] info    - No authentication\n",
            "[2020-10-28T18:54:05.641Z] info    - Not serving HTTPS\n"
          ],
          "name": "stdout"
        }
      ]
    }
  ]
}